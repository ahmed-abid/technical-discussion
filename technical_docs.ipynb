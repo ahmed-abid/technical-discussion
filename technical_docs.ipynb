{
  "nbformat": 4,
  "nbformat_minor": 0,
  "metadata": {
    "colab": {
      "name": "technical-docs.ipynb",
      "provenance": [],
      "collapsed_sections": [],
      "authorship_tag": "ABX9TyPVeNXbiVp0AXVVw6wq1VOB",
      "include_colab_link": true
    },
    "kernelspec": {
      "name": "python3",
      "display_name": "Python 3"
    },
    "language_info": {
      "name": "python"
    }
  },
  "cells": [
    {
      "cell_type": "markdown",
      "metadata": {
        "id": "view-in-github",
        "colab_type": "text"
      },
      "source": [
        "<a href=\"https://colab.research.google.com/github/ahmed-abid/technical-discussion/blob/main/technical_docs.ipynb\" target=\"_parent\"><img src=\"https://colab.research.google.com/assets/colab-badge.svg\" alt=\"Open In Colab\"/></a>"
      ]
    },
    {
      "cell_type": "markdown",
      "metadata": {
        "id": "cUGDqymrEnsW"
      },
      "source": [
        "# Hello World\n",
        "this is a hello world example"
      ]
    },
    {
      "cell_type": "code",
      "metadata": {
        "id": "TaMa2ZE2_36I",
        "colab": {
          "base_uri": "https://localhost:8080/"
        },
        "outputId": "61c43247-7ca4-4dfb-ffcb-3d9ed02d6a91"
      },
      "source": [
        "print(\"hello world\")"
      ],
      "execution_count": 7,
      "outputs": [
        {
          "output_type": "stream",
          "name": "stdout",
          "text": [
            "hello world\n"
          ]
        }
      ]
    }
  ]
}